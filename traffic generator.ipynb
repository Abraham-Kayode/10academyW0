{
 "cells": [
  {
   "cell_type": "code",
   "execution_count": 1,
   "id": "3e5fbf83",
   "metadata": {},
   "outputs": [],
   "source": [
    "import pandas as pd "
   ]
  },
  {
   "cell_type": "code",
   "execution_count": 4,
   "id": "49c94e62",
   "metadata": {},
   "outputs": [
    {
     "name": "stdout",
     "output_type": "stream",
     "text": [
      "Top 10 Websites with the Highest Visitor Traffic:\n",
      "   GlobalRank  TldRank                Domain  TLD  RefSubNets   RefIPs  \\\n",
      "0           1        1            google.com  com      471274  2151358   \n",
      "1           2        2          facebook.com  com      465424  2250631   \n",
      "2           3        3           youtube.com  com      420579  1852995   \n",
      "3           4        4           twitter.com  com      404985  1757127   \n",
      "4           5        5         instagram.com  com      364746  1598085   \n",
      "5           6        6          linkedin.com  com      337391  1319082   \n",
      "6           7        7             apple.com  com      263655   804726   \n",
      "7           8        8         microsoft.com  com      260546   739096   \n",
      "8           9        9  googletagmanager.com  com      254115   863843   \n",
      "9          10        1         wikipedia.org  org      246612   831384   \n",
      "\n",
      "             IDN_Domain IDN_TLD  PrevGlobalRank  PrevTldRank  PrevRefSubNets  \\\n",
      "0            google.com     com               1            1          471248   \n",
      "1          facebook.com     com               2            2          465297   \n",
      "2           youtube.com     com               3            3          420483   \n",
      "3           twitter.com     com               4            4          404998   \n",
      "4         instagram.com     com               5            5          364618   \n",
      "5          linkedin.com     com               6            6          337393   \n",
      "6             apple.com     com               7            7          263416   \n",
      "7         microsoft.com     com               8            8          260326   \n",
      "8  googletagmanager.com     com               9            9          254162   \n",
      "9         wikipedia.org     org              10            1          246522   \n",
      "\n",
      "   PrevRefIPs  \n",
      "0     2147402  \n",
      "1     2247135  \n",
      "2     1848940  \n",
      "3     1753939  \n",
      "4     1594892  \n",
      "5     1316218  \n",
      "6      801213  \n",
      "7      736093  \n",
      "8      861615  \n",
      "9      828772  \n"
     ]
    }
   ],
   "source": [
    "import pandas as pd\n",
    "import csv \n",
    "\n",
    "traffic_data = pd.read_csv(r\"C:\\Users\\HP\\Downloads\\traffic_data\\traffic.csv\")\n",
    "\n",
    "# Assuming GlobalRank represents visitor traffic, sort the DataFrame by GlobalRank in ascending order\n",
    "traffic_sorted = traffic_data.sort_values(by='GlobalRank', ascending=True)\n",
    "\n",
    "# Select the top 10 websites with the highest visitor traffic\n",
    "top_websites_traffic = traffic_sorted.head(10)\n",
    "\n",
    "print(\"Top 10 Websites with the Highest Visitor Traffic:\")\n",
    "print(top_websites_traffic)\n"
   ]
  },
  {
   "cell_type": "code",
   "execution_count": null,
   "id": "d899fcdb",
   "metadata": {},
   "outputs": [],
   "source": []
  },
  {
   "cell_type": "code",
   "execution_count": null,
   "id": "437257b5",
   "metadata": {},
   "outputs": [],
   "source": []
  }
 ],
 "metadata": {
  "kernelspec": {
   "display_name": "Python 3",
   "language": "python",
   "name": "python3"
  },
  "language_info": {
   "codemirror_mode": {
    "name": "ipython",
    "version": 3
   },
   "file_extension": ".py",
   "mimetype": "text/x-python",
   "name": "python",
   "nbconvert_exporter": "python",
   "pygments_lexer": "ipython3",
   "version": "3.8.8"
  }
 },
 "nbformat": 4,
 "nbformat_minor": 5
}
