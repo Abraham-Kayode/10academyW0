{
 "cells": [
  {
   "cell_type": "code",
   "execution_count": 1,
   "id": "446b4d5a",
   "metadata": {},
   "outputs": [],
   "source": [
    "import pandas as pd "
   ]
  },
  {
   "cell_type": "code",
   "execution_count": 18,
   "id": "0e8f3720",
   "metadata": {},
   "outputs": [
    {
     "name": "stdout",
     "output_type": "stream",
     "text": [
      "Top 10 Websites with the Largest Count of News Articles:\n",
      "source_name\n",
      "ETF Daily News        16746\n",
      "The Times of India     7504\n",
      "GlobeNewswire          5423\n",
      "Globalsecurity.org     3119\n",
      "Forbes                 2784\n",
      "BBC News               2113\n",
      "ABC News               2058\n",
      "Business Insider       2034\n",
      "The Punch              1800\n",
      "Al Jazeera English     1664\n",
      "Name: article_id, dtype: int64\n"
     ]
    }
   ],
   "source": [
    "import pandas as pd\n",
    "import csv \n",
    "\n",
    "\n",
    "data_df = pd.read_csv(r\"C:\\Users\\HP\\Downloads\\data.csv\\rating.csv\")\n",
    "\n",
    "website_counts = data_df.groupby('source_name')['article_id'].count()\n",
    "\n",
    "website_counts_sorted = website_counts.sort_values(ascending=False)\n",
    "\n",
    "top_websites = website_counts_sorted.head(10)\n",
    "\n",
    "print(\"Top 10 Websites with the Largest Count of News Articles:\")\n",
    "print(top_websites)\n"
   ]
  },
  {
   "cell_type": "code",
   "execution_count": null,
   "id": "ed857ee6",
   "metadata": {},
   "outputs": [],
   "source": []
  },
  {
   "cell_type": "code",
   "execution_count": null,
   "id": "465d2c40",
   "metadata": {},
   "outputs": [],
   "source": []
  }
 ],
 "metadata": {
  "kernelspec": {
   "display_name": "Python 3",
   "language": "python",
   "name": "python3"
  },
  "language_info": {
   "codemirror_mode": {
    "name": "ipython",
    "version": 3
   },
   "file_extension": ".py",
   "mimetype": "text/x-python",
   "name": "python",
   "nbconvert_exporter": "python",
   "pygments_lexer": "ipython3",
   "version": "3.8.8"
  }
 },
 "nbformat": 4,
 "nbformat_minor": 5
}
